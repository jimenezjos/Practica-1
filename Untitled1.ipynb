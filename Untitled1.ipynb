{
  "nbformat": 4,
  "nbformat_minor": 0,
  "metadata": {
    "colab": {
      "provenance": [],
      "authorship_tag": "ABX9TyOmWoBFqg5b7HywZBNx/4o3",
      "include_colab_link": true
    },
    "kernelspec": {
      "name": "python3",
      "display_name": "Python 3"
    },
    "language_info": {
      "name": "python"
    }
  },
  "cells": [
    {
      "cell_type": "markdown",
      "metadata": {
        "id": "view-in-github",
        "colab_type": "text"
      },
      "source": [
        "<a href=\"https://colab.research.google.com/github/jimenezjos/practica-1/blob/main/Untitled1.ipynb\" target=\"_parent\"><img src=\"https://colab.research.google.com/assets/colab-badge.svg\" alt=\"Open In Colab\"/></a>"
      ]
    },
    {
      "cell_type": "code",
      "execution_count": null,
      "metadata": {
        "id": "pkskvB4WDbqd"
      },
      "outputs": [],
      "source": [
        "import numpy as np\n"
      ]
    },
    {
      "cell_type": "code",
      "source": [
        "def fx(x):\n",
        "    return np.exp(-x)-x\n",
        "def gx(x):\n",
        "    return np.exp(-x)"
      ],
      "metadata": {
        "id": "jgr6VnqCDjPx"
      },
      "execution_count": null,
      "outputs": []
    },
    {
      "cell_type": "code",
      "source": [
        "toleracia=0.0001\n",
        "xi=0\n",
        "error=np.abs(gx(xi)-xi)\n",
        "i=0\n",
        "while(error > toleracia and i <= 100):\n",
        "    print(i,\"  x1=\",xi,\"  f(xi)=\",fx(xi),\"  g(xi)=\",gx(xi))\n",
        "    if i > 0:\n",
        "        error=np.abs(gx(xi)-xi)\n",
        "    xi=gx(xi)\n",
        "    i=i+1\n",
        "    \n",
        "print(\"el valor de x, tal que f(x) es:\",xi)    "
      ],
      "metadata": {
        "id": "S4FJkG4YDjpT",
        "outputId": "b4419d21-da4b-43cd-9b4f-180a217a008e",
        "colab": {
          "base_uri": "https://localhost:8080/"
        }
      },
      "execution_count": null,
      "outputs": [
        {
          "output_type": "stream",
          "name": "stdout",
          "text": [
            "0   x1= 0   f(xi)= 1.0   g(xi)= 1.0\n",
            "1   x1= 1.0   f(xi)= -0.6321205588285577   g(xi)= 0.36787944117144233\n",
            "2   x1= 0.36787944117144233   f(xi)= 0.32432118638390406   g(xi)= 0.6922006275553464\n",
            "3   x1= 0.6922006275553464   f(xi)= -0.19172712699170957   g(xi)= 0.5004735005636368\n",
            "4   x1= 0.5004735005636368   f(xi)= 0.10577003452196054   g(xi)= 0.6062435350855974\n",
            "5   x1= 0.6062435350855974   f(xi)= -0.06084774911057034   g(xi)= 0.545395785975027\n",
            "6   x1= 0.545395785975027   f(xi)= 0.03421654952835185   g(xi)= 0.5796123355033789\n",
            "7   x1= 0.5796123355033789   f(xi)= -0.019496874142289733   g(xi)= 0.5601154613610891\n",
            "8   x1= 0.5601154613610891   f(xi)= 0.011027653719087871   g(xi)= 0.571143115080177\n",
            "9   x1= 0.571143115080177   f(xi)= -0.0062637676891275085   g(xi)= 0.5648793473910495\n",
            "10   x1= 0.5648793473910495   f(xi)= 0.0035493776380112196   g(xi)= 0.5684287250290607\n",
            "11   x1= 0.5684287250290607   f(xi)= -0.002013991882177435   g(xi)= 0.5664147331468833\n",
            "12   x1= 0.5664147331468833   f(xi)= 0.001141904181400144   g(xi)= 0.5675566373282834\n",
            "13   x1= 0.5675566373282834   f(xi)= -0.0006477254067881466   g(xi)= 0.5669089119214953\n",
            "14   x1= 0.5669089119214953   f(xi)= 0.00036732025407426594   g(xi)= 0.5672762321755696\n",
            "15   x1= 0.5672762321755696   f(xi)= -0.00020833378478113396   g(xi)= 0.5670678983907884\n",
            "16   x1= 0.5670678983907884   f(xi)= 0.00011815170856854795   g(xi)= 0.567186050099357\n",
            "17   x1= 0.567186050099357   f(xi)= -6.701004214204609e-05   g(xi)= 0.5671190400572149\n",
            "el valor de x, tal que f(x) es: 0.5671190400572149\n"
          ]
        }
      ]
    }
  ]
}